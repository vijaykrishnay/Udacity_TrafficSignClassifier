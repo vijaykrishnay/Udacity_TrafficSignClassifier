{
 "cells": [
  {
   "cell_type": "markdown",
   "metadata": {},
   "source": [
    "# Self-Driving Car Engineer Nanodegree\n",
    "\n",
    "## Deep Learning\n",
    "\n",
    "## Traffic Sign Recognition Classifier\n"
   ]
  },
  {
   "cell_type": "markdown",
   "metadata": {},
   "source": [
    "---\n",
    "## Step 0: Load The Data"
   ]
  },
  {
   "cell_type": "code",
   "execution_count": 1,
   "metadata": {},
   "outputs": [],
   "source": [
    "import pandas as pd\n",
    "import numpy as np\n",
    "import random\n",
    "import pickle\n",
    "\n",
    "import matplotlib.pyplot as plt\n",
    "%matplotlib inline "
   ]
  },
  {
   "cell_type": "code",
   "execution_count": 2,
   "metadata": {
    "collapsed": true
   },
   "outputs": [],
   "source": [
    "from matplotlib.colors import hsv_to_rgb\n",
    "from matplotlib.colors import rgb_to_hsv"
   ]
  },
  {
   "cell_type": "code",
   "execution_count": 3,
   "metadata": {
    "collapsed": true
   },
   "outputs": [],
   "source": [
    "import os\n",
    "import tensorflow as tf\n",
    "import cv2\n",
    "import time\n",
    "from time import gmtime, strftime\n",
    "from sklearn.metrics import confusion_matrix\n",
    "from sklearn.utils.multiclass import unique_labels"
   ]
  },
  {
   "cell_type": "code",
   "execution_count": 4,
   "metadata": {
    "collapsed": true
   },
   "outputs": [],
   "source": [
    "# Load pickled data\n",
    "training_file = \"../traffic-signs-data/train.p\"\n",
    "validation_file = \"../traffic-signs-data/valid.p\"\n",
    "testing_file = \"../traffic-signs-data/test.p\"\n",
    "\n",
    "with open(training_file, mode='rb') as f:\n",
    "    train = pickle.load(f)\n",
    "with open(validation_file, mode='rb') as f:\n",
    "    valid = pickle.load(f)\n",
    "with open(testing_file, mode='rb') as f:\n",
    "    test = pickle.load(f)\n",
    "    \n",
    "X_train, y_train = train['features'], train['labels']\n",
    "X_valid, y_valid = valid['features'], valid['labels']\n",
    "X_test, y_test = test['features'], test['labels']"
   ]
  },
  {
   "cell_type": "markdown",
   "metadata": {},
   "source": [
    "---\n",
    "\n",
    "## Step 1: Dataset Summary & Exploration\n",
    "\n",
    "The pickled data is a dictionary with 4 key/value pairs:\n",
    "\n",
    "- `'features'` is a 4D array containing raw pixel data of the traffic sign images, (num examples, width, height, channels).\n",
    "- `'labels'` is a 1D array containing the label/class id of the traffic sign. The file `signnames.csv` contains id -> name mappings for each id.\n",
    "- `'sizes'` is a list containing tuples, (width, height) representing the original width and height the image.\n",
    "- `'coords'` is a list containing tuples, (x1, y1, x2, y2) representing coordinates of a bounding box around the sign in the image. **THESE COORDINATES ASSUME THE ORIGINAL IMAGE. THE PICKLED DATA CONTAINS RESIZED VERSIONS (32 by 32) OF THESE IMAGES**\n",
    "\n",
    "Complete the basic data summary below. Use python, numpy and/or pandas methods to calculate the data summary rather than hard coding the results. For example, the [pandas shape method](http://pandas.pydata.org/pandas-docs/stable/generated/pandas.DataFrame.shape.html) might be useful for calculating some of the summary results. "
   ]
  },
  {
   "cell_type": "markdown",
   "metadata": {},
   "source": [
    "### Provide a Basic Summary of the Data Set Using Python, Numpy and/or Pandas"
   ]
  },
  {
   "cell_type": "code",
   "execution_count": 5,
   "metadata": {},
   "outputs": [
    {
     "name": "stdout",
     "output_type": "stream",
     "text": [
      "Number of training examples = 34799\n",
      "Number of testing examples = 12630\n",
      "Image data shape = (32, 32, 3)\n",
      "Number of classes = 43\n"
     ]
    }
   ],
   "source": [
    "### Replace each question mark with the appropriate value. \n",
    "### Use python, pandas or numpy methods rather than hard coding the results\n",
    "\n",
    "# Number of training examples\n",
    "n_train = X_train.shape[0]\n",
    "\n",
    "# Number of validation examples\n",
    "n_validation = X_valid.shape[0]\n",
    "\n",
    "# Number of testing examples.\n",
    "n_test = X_test.shape[0]\n",
    "\n",
    "# What's the shape of an traffic sign image?\n",
    "image_shape = X_train.shape[1:]\n",
    "\n",
    "# How many unique classes/labels there are in the dataset.\n",
    "n_classes = len(np.unique(y_train))\n",
    "\n",
    "print(\"Number of training examples =\", n_train)\n",
    "print(\"Number of testing examples =\", n_test)\n",
    "print(\"Image data shape =\", image_shape)\n",
    "print(\"Number of classes =\", n_classes)"
   ]
  },
  {
   "cell_type": "markdown",
   "metadata": {},
   "source": [
    "### Include an exploratory visualization of the dataset"
   ]
  },
  {
   "cell_type": "markdown",
   "metadata": {},
   "source": [
    "Visualize the German Traffic Signs Dataset using the pickled file(s). This is open ended, suggestions include: plotting traffic sign images, plotting the count of each sign, etc. \n",
    "\n",
    "The [Matplotlib](http://matplotlib.org/) [examples](http://matplotlib.org/examples/index.html) and [gallery](http://matplotlib.org/gallery.html) pages are a great resource for doing visualizations in Python.\n",
    "\n",
    "**NOTE:** It's recommended you start with something simple first. If you wish to do more, come back to it after you've completed the rest of the sections. It can be interesting to look at the distribution of classes in the training, validation and test set. Is the distribution the same? Are there more examples of some classes than others?"
   ]
  },
  {
   "cell_type": "markdown",
   "metadata": {},
   "source": [
    "----\n",
    "\n",
    "## Step 2: Design and Test a Model Architecture\n",
    "\n",
    "Design and implement a deep learning model that learns to recognize traffic signs. Train and test your model on the [German Traffic Sign Dataset](http://benchmark.ini.rub.de/?section=gtsrb&subsection=dataset).\n",
    "\n",
    "The LeNet-5 implementation shown in the [classroom](https://classroom.udacity.com/nanodegrees/nd013/parts/fbf77062-5703-404e-b60c-95b78b2f3f9e/modules/6df7ae49-c61c-4bb2-a23e-6527e69209ec/lessons/601ae704-1035-4287-8b11-e2c2716217ad/concepts/d4aca031-508f-4e0b-b493-e7b706120f81) at the end of the CNN lesson is a solid starting point. You'll have to change the number of classes and possibly the preprocessing, but aside from that it's plug and play! \n",
    "\n",
    "With the LeNet-5 solution from the lecture, you should expect a validation set accuracy of about 0.89. To meet specifications, the validation set accuracy will need to be at least 0.93. It is possible to get an even higher accuracy, but 0.93 is the minimum for a successful project submission. \n",
    "\n",
    "There are various aspects to consider when thinking about this problem:\n",
    "\n",
    "- Neural network architecture (is the network over or underfitting?)\n",
    "- Play around preprocessing techniques (normalization, rgb to grayscale, etc)\n",
    "- Number of examples per label (some have more than others).\n",
    "- Generate fake data.\n",
    "\n",
    "Here is an example of a [published baseline model on this problem](http://yann.lecun.com/exdb/publis/pdf/sermanet-ijcnn-11.pdf). It's not required to be familiar with the approach used in the paper but, it's good practice to try to read papers like these."
   ]
  },
  {
   "cell_type": "markdown",
   "metadata": {},
   "source": [
    "### Pre-process the Data Set (normalization, grayscale, etc.)"
   ]
  },
  {
   "cell_type": "markdown",
   "metadata": {},
   "source": [
    "Minimally, the image data should be normalized so that the data has mean zero and equal variance. For image data, `(pixel - 128)/ 128` is a quick way to approximately normalize the data and can be used in this project. \n",
    "\n",
    "Other pre-processing steps are optional. You can try different techniques to see if it improves performance. \n",
    "\n",
    "Use the code cell (or multiple code cells, if necessary) to implement the first step of your project."
   ]
  },
  {
   "cell_type": "code",
   "execution_count": 6,
   "metadata": {
    "collapsed": true
   },
   "outputs": [],
   "source": [
    "SEED = 12345"
   ]
  },
  {
   "cell_type": "code",
   "execution_count": 7,
   "metadata": {
    "collapsed": true
   },
   "outputs": [],
   "source": [
    "np.random.seed(SEED)"
   ]
  },
  {
   "cell_type": "code",
   "execution_count": 8,
   "metadata": {
    "collapsed": true
   },
   "outputs": [],
   "source": [
    "random.seed(SEED)"
   ]
  },
  {
   "cell_type": "code",
   "execution_count": 9,
   "metadata": {
    "collapsed": true
   },
   "outputs": [],
   "source": [
    "index = random.randint(0, len(X_train))"
   ]
  },
  {
   "cell_type": "code",
   "execution_count": 10,
   "metadata": {},
   "outputs": [
    {
     "name": "stdout",
     "output_type": "stream",
     "text": [
      "28\n"
     ]
    },
    {
     "data": {
      "image/png": "[encoded data removed]",
      "text/plain": [
       "<matplotlib.figure.Figure at 0x2606983eac8>"
      ]
     },
     "metadata": {},
     "output_type": "display_data"
    }
   ],
   "source": [
    "image = X_train[index].squeeze()\n",
    "\n",
    "plt.figure(figsize=(1,1))\n",
    "plt.imshow(image)\n",
    "# plt.imshow(hsv_to_rgb(image))\n",
    "print(y_train[index])"
   ]
  },
  {
   "cell_type": "code",
   "execution_count": 11,
   "metadata": {},
   "outputs": [
    {
     "data": {
      "text/html": [
       "<div>\n",
       "<style>\n",
       "    .dataframe thead tr:only-child th {\n",
       "        text-align: right;\n",
       "    }\n",
       "\n",
       "    .dataframe thead th {\n",
       "        text-align: left;\n",
       "    }\n",
       "\n",
       "    .dataframe tbody tr th {\n",
       "        vertical-align: top;\n",
       "    }\n",
       "</style>\n",
       "<table border=\"1\" class=\"dataframe\">\n",
       "  <thead>\n",
       "    <tr style=\"text-align: right;\">\n",
       "      <th></th>\n",
       "      <th>SignName</th>\n",
       "    </tr>\n",
       "    <tr>\n",
       "      <th>ClassId</th>\n",
       "      <th></th>\n",
       "    </tr>\n",
       "  </thead>\n",
       "  <tbody>\n",
       "    <tr>\n",
       "      <th>0</th>\n",
       "      <td>Speed limit (20km/h)</td>\n",
       "    </tr>\n",
       "    <tr>\n",
       "      <th>1</th>\n",
       "      <td>Speed limit (30km/h)</td>\n",
       "    </tr>\n",
       "    <tr>\n",
       "      <th>2</th>\n",
       "      <td>Speed limit (50km/h)</td>\n",
       "    </tr>\n",
       "    <tr>\n",
       "      <th>3</th>\n",
       "      <td>Speed limit (60km/h)</td>\n",
       "    </tr>\n",
       "    <tr>\n",
       "      <th>4</th>\n",
       "      <td>Speed limit (70km/h)</td>\n",
       "    </tr>\n",
       "  </tbody>\n",
       "</table>\n",
       "</div>"
      ],
      "text/plain": [
       "                     SignName\n",
       "ClassId                      \n",
       "0        Speed limit (20km/h)\n",
       "1        Speed limit (30km/h)\n",
       "2        Speed limit (50km/h)\n",
       "3        Speed limit (60km/h)\n",
       "4        Speed limit (70km/h)"
      ]
     },
     "execution_count": 11,
     "metadata": {},
     "output_type": "execute_result"
    }
   ],
   "source": [
    "df_labels = pd.read_csv(\"signnames.csv\", index_col=0)\n",
    "df_labels.head()"
   ]
  },
  {
   "cell_type": "markdown",
   "metadata": {},
   "source": [
    "#### Image Color Processing"
   ]
  },
  {
   "cell_type": "code",
   "execution_count": 12,
   "metadata": {},
   "outputs": [],
   "source": [
    "def img_gradient(img, x=1, y=0, s_thresh=(100, 255)):\n",
    "    hls = cv2.cvtColor(img, cv2.COLOR_RGB2HLS)\n",
    "    l_channel = hls[:,:,1]\n",
    "    sobel_img = cv2.Sobel(l_channel, cv2.CV_64F, x, y) # Take the derivative in x\n",
    "    abs_sobel = np.absolute(sobel_img)\n",
    "    scaled_sobel = np.uint8(255*abs_sobel/np.max(abs_sobel))\n",
    "    \n",
    "    # Threshold x gradient\n",
    "    sbinary = np.zeros_like(scaled_sobel)\n",
    "    sbinary[(scaled_sobel >= s_thresh[0]) & (scaled_sobel <= s_thresh[1])] = 1\n",
    "    return sbinary"
   ]
  },
  {
   "cell_type": "code",
   "execution_count": 13,
   "metadata": {},
   "outputs": [],
   "source": [
    "# plt.imshow(img_gradient(image), cmap='gray')"
   ]
  },
  {
   "cell_type": "code",
   "execution_count": 14,
   "metadata": {
    "collapsed": true
   },
   "outputs": [],
   "source": [
    "def rgb_to_gray(rgb):\n",
    "    x_shape = list(rgb.shape)\n",
    "    x_shape[3] = 1\n",
    "    gray = np.dot(rgb, [0.2989, 0.5870, 0.1140])\n",
    "    return gray.reshape(x_shape)\n",
    "\n",
    "def imgs_to_gray(X):\n",
    "    x_shape = list(X.shape)\n",
    "    x_shape[3] = 1\n",
    "    return np.mean(X, axis=3).reshape(x_shape)\n",
    "\n",
    "def rgb_to_hsv_n(imgs):\n",
    "    return np.array([rgb_to_hsv(imgs[i].squeeze()) for i in range(len(imgs))])"
   ]
  },
  {
   "cell_type": "code",
   "execution_count": 15,
   "metadata": {
    "collapsed": true
   },
   "outputs": [],
   "source": [
    "def normalize_img(img):\n",
    "    return (img - np.min(img))/(np.max(img) - np.min(img))\n",
    "    \n",
    "def normalize_imgs(imgs):\n",
    "    return np.array([normalize_img(imgs[i]) for i in range(len(imgs))])"
   ]
  },
  {
   "cell_type": "code",
   "execution_count": 16,
   "metadata": {},
   "outputs": [],
   "source": [
    "if X_train.max() > 2:\n",
    "#     X_train = imgs_to_gray(X_train)\n",
    "#     X_valid = imgs_to_gray(X_valid)\n",
    "#     X_test = imgs_to_gray(X_test)\n",
    "#     X_train = (X_train - 128.)/128.\n",
    "#     X_valid = (X_valid - 128.)(/128.\n",
    "#     X_test = (X_test - 128.)/128.\n",
    "    \n",
    "    X_train = X_train/255.\n",
    "    X_valid = X_valid/255.\n",
    "    X_test = X_test/255.\n",
    "    \n",
    "    X_train = rgb_to_gray(X_train)\n",
    "    X_valid = rgb_to_gray(X_valid)\n",
    "    X_test = rgb_to_gray(X_test)\n",
    "    \n",
    "#     X_train = normalize_imgs(X_train)\n",
    "#     X_valid = normalize_imgs(X_valid)\n",
    "#     X_test = normalize_imgs(X_test)\n",
    "    \n",
    "#     X_train = rgb_to_hsv_n(X_train)\n",
    "#     X_valid = rgb_to_hsv_n(X_valid)\n",
    "#     X_test = rgb_to_hsv_n(X_test)\n",
    "\n",
    "#     X_train = np.concatenate((rgb_to_gray(X_train), rgb_to_hsv_n(X_train)[:,:,:,:2]), axis=3)\n",
    "#     X_valid = np.concatenate((rgb_to_gray(X_valid), rgb_to_hsv_n(X_valid)[:,:,:,:2]), axis=3)\n",
    "#     X_test = np.concatenate((rgb_to_gray(X_test), rgb_to_hsv_n(X_test)[:,:,:,:2]), axis=3)\n",
    "else:\n",
    "    print(\"Already normalized\")"
   ]
  },
  {
   "cell_type": "markdown",
   "metadata": {},
   "source": [
    "#### Calculate class weights to balance classes"
   ]
  },
  {
   "cell_type": "code",
   "execution_count": 17,
   "metadata": {
    "collapsed": true
   },
   "outputs": [],
   "source": [
    "class_counts = np.unique(y_train, return_counts=True)[1]\n",
    "class_weights = np.divide(np.sum(class_counts), class_counts)\n",
    "class_weights = class_weights/np.min(class_weights)"
   ]
  },
  {
   "cell_type": "code",
   "execution_count": 18,
   "metadata": {
    "collapsed": true
   },
   "outputs": [],
   "source": [
    "class_weights_int = class_weights.astype(int)"
   ]
  },
  {
   "cell_type": "markdown",
   "metadata": {},
   "source": [
    "#### Rotate, Warp, Scale Image"
   ]
  },
  {
   "cell_type": "code",
   "execution_count": 19,
   "metadata": {},
   "outputs": [
    {
     "data": {
      "text/plain": [
       "<matplotlib.image.AxesImage at 0x260085f2908>"
      ]
     },
     "execution_count": 19,
     "metadata": {},
     "output_type": "execute_result"
    },
    {
     "data": {
      "image/png": "[encoded data removed]",
      "text/plain": [
       "<matplotlib.figure.Figure at 0x260699b7358>"
      ]
     },
     "metadata": {},
     "output_type": "display_data"
    },
    {
     "data": {
      "image/png": "[encoded data removed]",
      "text/plain": [
       "<matplotlib.figure.Figure at 0x26008593160>"
      ]
     },
     "metadata": {},
     "output_type": "display_data"
    }
   ],
   "source": [
    "def get_perspective_matrix(src, dst):\n",
    "    \"\"\"\n",
    "    Calculate and return perspective transform matrix M from 'src', 'dst' points\n",
    "    \"\"\"\n",
    "    return cv2.getPerspectiveTransform(src, dst)\n",
    "\n",
    "def warp_perspective(img, M):\n",
    "    \"\"\"\n",
    "    `img` is the undistored image\n",
    "    `M` is the perspective transform matrix\n",
    "    \"\"\"\n",
    "    warped = cv2.warpPerspective(img, M, (img.shape[1], img.shape[0]), \n",
    "                                 flags=cv2.INTER_LINEAR,\n",
    "                                 borderMode=cv2.BORDER_REPLICATE)\n",
    "    return warped\n",
    "src = np.float32([\n",
    "            [8, 8],\n",
    "            [8, 24],\n",
    "            [24, 24],\n",
    "            [24, 8],\n",
    "        ])\n",
    "\n",
    "dst1 = np.float32([\n",
    "            [8, 8],\n",
    "            [7, 25],\n",
    "            [24, 24],\n",
    "            [25, 7],\n",
    "        ])\n",
    "dst2 = np.float32([\n",
    "            [9, 9],\n",
    "            [9, 23],\n",
    "            [24, 24],\n",
    "            [24, 8],\n",
    "        ])\n",
    "dst3 = np.float32([\n",
    "            [8, 8],\n",
    "            [9, 23],\n",
    "            [25, 25],\n",
    "            [24, 8],\n",
    "        ])\n",
    "dst4 = np.float32([\n",
    "            [8, 8],\n",
    "            [8, 24],\n",
    "            [25, 25],\n",
    "            [23, 9],\n",
    "        ])\n",
    "dst4 = np.float32([\n",
    "            [7, 9],\n",
    "            [8, 24],\n",
    "            [24, 24],\n",
    "            [23, 9],\n",
    "        ])\n",
    "M_list = [get_perspective_matrix(src, dst1)]\n",
    "M_list.append(get_perspective_matrix(src, dst2))\n",
    "M_list.append(get_perspective_matrix(src, dst3))\n",
    "M_list.append(get_perspective_matrix(src, dst4))\n",
    "\n",
    "# TEST IMAGE\n",
    "plt.figure(figsize=(1,1))\n",
    "plt.imshow(image)\n",
    "image = X_train[index].squeeze()\n",
    "plt.figure(figsize=(1,1))\n",
    "plt.imshow(warp_perspective(image, M_list[2]))"
   ]
  },
  {
   "cell_type": "code",
   "execution_count": 20,
   "metadata": {},
   "outputs": [
    {
     "name": "stdout",
     "output_type": "stream",
     "text": [
      "TESTING IMAGE ROTATION, SCALING\n"
     ]
    },
    {
     "data": {
      "text/plain": [
       "<matplotlib.image.AxesImage at 0x260086f6668>"
      ]
     },
     "execution_count": 20,
     "metadata": {},
     "output_type": "execute_result"
    },
    {
     "data": {
      "image/png": "[encoded data removed]",
      "text/plain": [
       "<matplotlib.figure.Figure at 0x26008617588>"
      ]
     },
     "metadata": {},
     "output_type": "display_data"
    },
    {
     "data": {
      "image/png": "[encoded data removed]",
      "text/plain": [
       "<matplotlib.figure.Figure at 0x26008633048>"
      ]
     },
     "metadata": {},
     "output_type": "display_data"
    }
   ],
   "source": [
    "angle_list = [-5, 0, 5]\n",
    "scale_list = [0.85, 1.1, 1.25]\n",
    "invert_list = [0, 0]\n",
    "warp_list = range(len(M_list)+1)\n",
    "def rotate_image(image, angle, scale=1.0):\n",
    "    (h, w) = image.shape[:2]\n",
    "    center = (w/2, h/2)\n",
    "\n",
    "    # Perform the rotation\n",
    "    M = cv2.getRotationMatrix2D(center, angle, scale)\n",
    "    rotated = cv2.warpAffine(image, M, (w, h), flags=cv2.INTER_LINEAR, \n",
    "                             borderMode=cv2.BORDER_REPLICATE)\n",
    "    rotated = rotated.reshape(image.shape)\n",
    "    return rotated\n",
    "\n",
    "def invert_gray_image(image):\n",
    "    return (1. - image)\n",
    "\n",
    "def random_rotate_scale_image(image):\n",
    "    angle = np.random.choice(angle_list, 1)[0]\n",
    "    scale = np.random.choice(scale_list, 1)[0]\n",
    "    \n",
    "    rot_img = rotate_image(image=image, angle=angle, scale=scale)\n",
    "#     if np.random.choice(invert_list, 1):\n",
    "#         rot_img = invert_gray_image(rot_img)\n",
    "    warp_sel = np.random.choice(warp_list, 1)[0]\n",
    "    if warp_sel > 0:\n",
    "        rot_img = warp_perspective(rot_img, M_list[warp_sel-1])\n",
    "        rot_img = rot_img.reshape([rot_img.shape[0], rot_img.shape[1], 1])\n",
    "    \n",
    "    return rot_img\n",
    "\n",
    "###### Test rotate scale image\n",
    "# # img_rotate = rotate_image(X_train[index], angle=0, scale=1.1)\n",
    "print(\"TESTING IMAGE ROTATION, SCALING\")\n",
    "img_rotate = random_rotate_scale_image(X_train[index])\n",
    "\n",
    "plt.figure(figsize=(1,1))\n",
    "plt.imshow(X_train[index].squeeze(), cmap='gray')\n",
    "\n",
    "plt.figure(figsize=(1,1))\n",
    "plt.imshow(img_rotate.squeeze(), cmap='gray')"
   ]
  },
  {
   "cell_type": "code",
   "execution_count": 21,
   "metadata": {},
   "outputs": [
    {
     "data": {
      "text/plain": [
       "array([-5])"
      ]
     },
     "execution_count": 21,
     "metadata": {},
     "output_type": "execute_result"
    }
   ],
   "source": [
    "np.random.choice(angle_list, 1)"
   ]
  },
  {
   "cell_type": "code",
   "execution_count": 22,
   "metadata": {},
   "outputs": [
    {
     "data": {
      "text/plain": [
       "array([1])"
      ]
     },
     "execution_count": 22,
     "metadata": {},
     "output_type": "execute_result"
    }
   ],
   "source": [
    "np.random.choice(warp_list, 1)"
   ]
  },
  {
   "cell_type": "markdown",
   "metadata": {},
   "source": [
    "#### Generate synthetic data to balance class sizes"
   ]
  },
  {
   "cell_type": "code",
   "execution_count": 23,
   "metadata": {},
   "outputs": [
    {
     "data": {
      "text/plain": [
       "array([11,  1,  1,  1,  1,  1,  5,  1,  1,  1,  1,  1,  1,  1,  2,  3,  5,\n",
       "        2,  1, 11,  6,  7,  6,  4,  8,  1,  3,  9,  4,  8,  5,  2,  9,  3,\n",
       "        5,  1,  6, 11,  1,  7,  6,  9,  9])"
      ]
     },
     "execution_count": 23,
     "metadata": {},
     "output_type": "execute_result"
    }
   ],
   "source": [
    "class_weights_int"
   ]
  },
  {
   "cell_type": "code",
   "execution_count": 24,
   "metadata": {
    "collapsed": true
   },
   "outputs": [],
   "source": [
    "X_train_synth = X_train\n",
    "y_train_synth = y_train"
   ]
  },
  {
   "cell_type": "code",
   "execution_count": 25,
   "metadata": {
    "scrolled": false
   },
   "outputs": [],
   "source": [
    "for class_i in np.where(class_weights_int > 0)[0]:\n",
    "    class_i_ids = np.where(y_train==class_i)\n",
    "    # calculate synth fraction per class to balance class samples. \n",
    "    # Below implementation should result in approx max imbalance ratio of 2\n",
    "    synth_frac = (class_weights_int[class_i] - np.min(class_weights_int))/np.ptp(class_weights_int)*0.3 + 0.2\n",
    "    for i in range(0, class_weights_int[class_i]):\n",
    "        X_synth_ = np.array([random_rotate_scale_image(sample_) \n",
    "                             for sample_ in X_train[class_i_ids] \n",
    "                             if (random.uniform(0,1) < synth_frac)])\n",
    "        \n",
    "        X_train_synth = np.concatenate((X_train_synth, X_synth_), axis=0)\n",
    "        y_train_synth = np.concatenate((y_train_synth, np.repeat(class_i, len(X_synth_))),\n",
    "                                       axis=0)"
   ]
  },
  {
   "cell_type": "code",
   "execution_count": 26,
   "metadata": {},
   "outputs": [
    {
     "name": "stdout",
     "output_type": "stream",
     "text": [
      "22598 Synthetic samples added\n"
     ]
    }
   ],
   "source": [
    "print(\"{} Synthetic samples added\".format(X_train_synth.shape[0] - X_train.shape[0]))"
   ]
  },
  {
   "cell_type": "code",
   "execution_count": 27,
   "metadata": {
    "collapsed": true
   },
   "outputs": [],
   "source": [
    "X_train = X_train_synth\n",
    "y_train = y_train_synth"
   ]
  },
  {
   "cell_type": "code",
   "execution_count": 28,
   "metadata": {
    "collapsed": true
   },
   "outputs": [],
   "source": [
    "assert X_train.shape[0]==y_train.shape[0], \"X size != y size\""
   ]
  },
  {
   "cell_type": "markdown",
   "metadata": {},
   "source": [
    "#### Check to see if balancing via synth data worked"
   ]
  },
  {
   "cell_type": "code",
   "execution_count": 29,
   "metadata": {},
   "outputs": [
    {
     "name": "stdout",
     "output_type": "stream",
     "text": [
      "Class weights after synth and balancing: [ 2.05123826  1.01264755  1.          1.58652576  1.12717034  1.2286445\n",
      "  2.53643083  1.59072848  1.61099933  1.55067786  1.11981352  1.68917018\n",
      "  1.06142289  1.03223034  2.38530288  2.47884417  2.64537445  1.6440794\n",
      "  1.85769528  2.11629956  2.53108535  2.35259549  2.36883629  2.54989384\n",
      "  2.38767396  1.49007444  2.47884417  2.31183831  2.31183831  2.40681363\n",
      "  2.36883629  2.38767396  2.38057483  2.18761384  2.60803474  1.83358779\n",
      "  2.41164659  2.05299145  1.08540443  2.31406551  2.46358974  2.31183831\n",
      "  2.29417383]\n"
     ]
    }
   ],
   "source": [
    "class_counts_new = np.unique(y_train, return_counts=True)[1]\n",
    "class_weights_new = np.divide(np.sum(class_counts_new), class_counts_new)\n",
    "class_weights_new = class_weights_new/np.min(class_weights_new)\n",
    "\n",
    "print(\"Class weights after synth and balancing:\", class_weights_new)"
   ]
  },
  {
   "cell_type": "markdown",
   "metadata": {},
   "source": [
    "#### Shuffle training data"
   ]
  },
  {
   "cell_type": "code",
   "execution_count": 30,
   "metadata": {},
   "outputs": [
    {
     "data": {
      "text/html": [
       "<div>\n",
       "<style>\n",
       "    .dataframe thead tr:only-child th {\n",
       "        text-align: right;\n",
       "    }\n",
       "\n",
       "    .dataframe thead th {\n",
       "        text-align: left;\n",
       "    }\n",
       "\n",
       "    .dataframe tbody tr th {\n",
       "        vertical-align: top;\n",
       "    }\n",
       "</style>\n",
       "<table border=\"1\" class=\"dataframe\">\n",
       "  <thead>\n",
       "    <tr style=\"text-align: right;\">\n",
       "      <th></th>\n",
       "      <th>SignName</th>\n",
       "    </tr>\n",
       "    <tr>\n",
       "      <th>ClassId</th>\n",
       "      <th></th>\n",
       "    </tr>\n",
       "  </thead>\n",
       "  <tbody>\n",
       "    <tr>\n",
       "      <th>0</th>\n",
       "      <td>Speed limit (20km/h)</td>\n",
       "    </tr>\n",
       "    <tr>\n",
       "      <th>1</th>\n",
       "      <td>Speed limit (30km/h)</td>\n",
       "    </tr>\n",
       "    <tr>\n",
       "      <th>2</th>\n",
       "      <td>Speed limit (50km/h)</td>\n",
       "    </tr>\n",
       "    <tr>\n",
       "      <th>3</th>\n",
       "      <td>Speed limit (60km/h)</td>\n",
       "    </tr>\n",
       "    <tr>\n",
       "      <th>4</th>\n",
       "      <td>Speed limit (70km/h)</td>\n",
       "    </tr>\n",
       "    <tr>\n",
       "      <th>5</th>\n",
       "      <td>Speed limit (80km/h)</td>\n",
       "    </tr>\n",
       "    <tr>\n",
       "      <th>6</th>\n",
       "      <td>End of speed limit (80km/h)</td>\n",
       "    </tr>\n",
       "    <tr>\n",
       "      <th>7</th>\n",
       "      <td>Speed limit (100km/h)</td>\n",
       "    </tr>\n",
       "    <tr>\n",
       "      <th>8</th>\n",
       "      <td>Speed limit (120km/h)</td>\n",
       "    </tr>\n",
       "    <tr>\n",
       "      <th>9</th>\n",
       "      <td>No passing</td>\n",
       "    </tr>\n",
       "    <tr>\n",
       "      <th>10</th>\n",
       "      <td>No passing for vehicles over 3.5 metric tons</td>\n",
       "    </tr>\n",
       "    <tr>\n",
       "      <th>11</th>\n",
       "      <td>Right-of-way at the next intersection</td>\n",
       "    </tr>\n",
       "    <tr>\n",
       "      <th>12</th>\n",
       "      <td>Priority road</td>\n",
       "    </tr>\n",
       "    <tr>\n",
       "      <th>13</th>\n",
       "      <td>Yield</td>\n",
       "    </tr>\n",
       "    <tr>\n",
       "      <th>14</th>\n",
       "      <td>Stop</td>\n",
       "    </tr>\n",
       "    <tr>\n",
       "      <th>15</th>\n",
       "      <td>No vehicles</td>\n",
       "    </tr>\n",
       "    <tr>\n",
       "      <th>16</th>\n",
       "      <td>Vehicles over 3.5 metric tons prohibited</td>\n",
       "    </tr>\n",
       "    <tr>\n",
       "      <th>17</th>\n",
       "      <td>No entry</td>\n",
       "    </tr>\n",
       "    <tr>\n",
       "      <th>18</th>\n",
       "      <td>General caution</td>\n",
       "    </tr>\n",
       "    <tr>\n",
       "      <th>19</th>\n",
       "      <td>Dangerous curve to the left</td>\n",
       "    </tr>\n",
       "    <tr>\n",
       "      <th>20</th>\n",
       "      <td>Dangerous curve to the right</td>\n",
       "    </tr>\n",
       "    <tr>\n",
       "      <th>21</th>\n",
       "      <td>Double curve</td>\n",
       "    </tr>\n",
       "    <tr>\n",
       "      <th>22</th>\n",
       "      <td>Bumpy road</td>\n",
       "    </tr>\n",
       "    <tr>\n",
       "      <th>23</th>\n",
       "      <td>Slippery road</td>\n",
       "    </tr>\n",
       "    <tr>\n",
       "      <th>24</th>\n",
       "      <td>Road narrows on the right</td>\n",
       "    </tr>\n",
       "    <tr>\n",
       "      <th>25</th>\n",
       "      <td>Road work</td>\n",
       "    </tr>\n",
       "    <tr>\n",
       "      <th>26</th>\n",
       "      <td>Traffic signals</td>\n",
       "    </tr>\n",
       "    <tr>\n",
       "      <th>27</th>\n",
       "      <td>Pedestrians</td>\n",
       "    </tr>\n",
       "    <tr>\n",
       "      <th>28</th>\n",
       "      <td>Children crossing</td>\n",
       "    </tr>\n",
       "    <tr>\n",
       "      <th>29</th>\n",
       "      <td>Bicycles crossing</td>\n",
       "    </tr>\n",
       "    <tr>\n",
       "      <th>30</th>\n",
       "      <td>Beware of ice/snow</td>\n",
       "    </tr>\n",
       "    <tr>\n",
       "      <th>31</th>\n",
       "      <td>Wild animals crossing</td>\n",
       "    </tr>\n",
       "    <tr>\n",
       "      <th>32</th>\n",
       "      <td>End of all speed and passing limits</td>\n",
       "    </tr>\n",
       "    <tr>\n",
       "      <th>33</th>\n",
       "      <td>Turn right ahead</td>\n",
       "    </tr>\n",
       "    <tr>\n",
       "      <th>34</th>\n",
       "      <td>Turn left ahead</td>\n",
       "    </tr>\n",
       "    <tr>\n",
       "      <th>35</th>\n",
       "      <td>Ahead only</td>\n",
       "    </tr>\n",
       "    <tr>\n",
       "      <th>36</th>\n",
       "      <td>Go straight or right</td>\n",
       "    </tr>\n",
       "    <tr>\n",
       "      <th>37</th>\n",
       "      <td>Go straight or left</td>\n",
       "    </tr>\n",
       "    <tr>\n",
       "      <th>38</th>\n",
       "      <td>Keep right</td>\n",
       "    </tr>\n",
       "    <tr>\n",
       "      <th>39</th>\n",
       "      <td>Keep left</td>\n",
       "    </tr>\n",
       "    <tr>\n",
       "      <th>40</th>\n",
       "      <td>Roundabout mandatory</td>\n",
       "    </tr>\n",
       "    <tr>\n",
       "      <th>41</th>\n",
       "      <td>End of no passing</td>\n",
       "    </tr>\n",
       "    <tr>\n",
       "      <th>42</th>\n",
       "      <td>End of no passing by vehicles over 3.5 metric ...</td>\n",
       "    </tr>\n",
       "  </tbody>\n",
       "</table>\n",
       "</div>"
      ],
      "text/plain": [
       "                                                  SignName\n",
       "ClassId                                                   \n",
       "0                                     Speed limit (20km/h)\n",
       "1                                     Speed limit (30km/h)\n",
       "2                                     Speed limit (50km/h)\n",
       "3                                     Speed limit (60km/h)\n",
       "4                                     Speed limit (70km/h)\n",
       "5                                     Speed limit (80km/h)\n",
       "6                              End of speed limit (80km/h)\n",
       "7                                    Speed limit (100km/h)\n",
       "8                                    Speed limit (120km/h)\n",
       "9                                               No passing\n",
       "10            No passing for vehicles over 3.5 metric tons\n",
       "11                   Right-of-way at the next intersection\n",
       "12                                           Priority road\n",
       "13                                                   Yield\n",
       "14                                                    Stop\n",
       "15                                             No vehicles\n",
       "16                Vehicles over 3.5 metric tons prohibited\n",
       "17                                                No entry\n",
       "18                                         General caution\n",
       "19                             Dangerous curve to the left\n",
       "20                            Dangerous curve to the right\n",
       "21                                            Double curve\n",
       "22                                              Bumpy road\n",
       "23                                           Slippery road\n",
       "24                               Road narrows on the right\n",
       "25                                               Road work\n",
       "26                                         Traffic signals\n",
       "27                                             Pedestrians\n",
       "28                                       Children crossing\n",
       "29                                       Bicycles crossing\n",
       "30                                      Beware of ice/snow\n",
       "31                                   Wild animals crossing\n",
       "32                     End of all speed and passing limits\n",
       "33                                        Turn right ahead\n",
       "34                                         Turn left ahead\n",
       "35                                              Ahead only\n",
       "36                                    Go straight or right\n",
       "37                                     Go straight or left\n",
       "38                                              Keep right\n",
       "39                                               Keep left\n",
       "40                                    Roundabout mandatory\n",
       "41                                       End of no passing\n",
       "42       End of no passing by vehicles over 3.5 metric ..."
      ]
     },
     "execution_count": 30,
     "metadata": {},
     "output_type": "execute_result"
    }
   ],
   "source": [
    "df_labels"
   ]
  },
  {
   "cell_type": "code",
   "execution_count": 31,
   "metadata": {
    "collapsed": true
   },
   "outputs": [],
   "source": [
    "from sklearn.utils import shuffle\n",
    "X_train, y_train = shuffle(X_train, y_train)"
   ]
  },
  {
   "cell_type": "code",
   "execution_count": 32,
   "metadata": {},
   "outputs": [
    {
     "data": {
      "text/plain": [
       "(array([ 0,  1,  2,  3,  4,  5,  6,  7,  8,  9, 10, 11, 12, 13, 14, 15, 16,\n",
       "        17, 18, 19, 20, 21, 22, 23, 24, 25, 26, 27, 28, 29, 30, 31, 32, 33,\n",
       "        34, 35, 36, 37, 38, 39, 40, 41, 42], dtype=int64),\n",
       " array([1171, 2372, 2402, 1514, 2131, 1955,  947, 1510, 1491, 1549, 2145,\n",
       "        1422, 2263, 2327, 1007,  969,  908, 1461, 1293, 1135,  949, 1021,\n",
       "        1014,  942, 1006, 1612,  969, 1039, 1039,  998, 1014, 1006, 1009,\n",
       "        1098,  921, 1310,  996, 1170, 2213, 1038,  975, 1039, 1047], dtype=int64))"
      ]
     },
     "execution_count": 32,
     "metadata": {},
     "output_type": "execute_result"
    }
   ],
   "source": [
    "np.unique(y_train, return_counts=True)"
   ]
  },
  {
   "cell_type": "markdown",
   "metadata": {},
   "source": [
    "### Model Architecture"
   ]
  },
  {
   "cell_type": "code",
   "execution_count": 33,
   "metadata": {
    "collapsed": true
   },
   "outputs": [],
   "source": [
    "tf.reset_default_graph()"
   ]
  },
  {
   "cell_type": "code",
   "execution_count": 34,
   "metadata": {
    "collapsed": true
   },
   "outputs": [],
   "source": [
    "keep_prob = 0.7"
   ]
  },
  {
   "cell_type": "code",
   "execution_count": 35,
   "metadata": {
    "collapsed": true
   },
   "outputs": [],
   "source": [
    "n_color = X_train.shape[-1]"
   ]
  },
  {
   "cell_type": "code",
   "execution_count": 36,
   "metadata": {
    "collapsed": true
   },
   "outputs": [],
   "source": [
    "from tensorflow.contrib.layers import flatten\n",
    "\n",
    "def conv2d(x, W, b, strides=1):\n",
    "    x = tf.nn.conv2d(x, W, strides=[1, strides, strides, 1], padding='VALID')\n",
    "    x = tf.nn.bias_add(x, b)\n",
    "    return x\n",
    "\n",
    "def relu(x):\n",
    "    return tf.nn.relu(x)\n",
    "\n",
    "def maxpool2d(x, k=2):\n",
    "    return tf.nn.max_pool(\n",
    "        x,\n",
    "        ksize=[1, k, k, 1],\n",
    "        strides=[1, k, k, 1],\n",
    "        padding='VALID')\n",
    "\n",
    "def avgpool2d(x, k=2):\n",
    "    return tf.nn.avg_pool(\n",
    "        x,\n",
    "        ksize=[1, k, k, 1],\n",
    "        strides=[1, k, k, 1],\n",
    "        padding='VALID')\n",
    "\n",
    "def LeNet(x):    \n",
    "    # Arguments used for tf.truncated_normal, randomly defines variables for the weights and biases for each layer\n",
    "    mu = 0\n",
    "    sigma = 0.1\n",
    "    \n",
    "    # Layer 1: Convolutional. Input = 32x32x1. Output = 28x28x8.\n",
    "    w1 = tf.Variable(tf.random_normal([5, 5, n_color, 8], mean=mu, stddev=sigma, seed=SEED))\n",
    "    b1 = tf.Variable(tf.random_normal([8], mean=mu, stddev=sigma, seed=SEED))\n",
    "    conv1 = conv2d(x, w1, b1, strides=1)\n",
    "    \n",
    "    # Activation.\n",
    "    conv1 = relu(conv1)\n",
    "    \n",
    "    # dropout\n",
    "    conv1 = tf.nn.dropout(conv1, keep_prob=keep_prob, seed=SEED)\n",
    "\n",
    "    # Pooling. Input = 28x28x8. Output = 14x14x8.\n",
    "#     pool1 = avgpool2d(conv1, k=2)\n",
    "    pool1 = maxpool2d(conv1, k=2)\n",
    "\n",
    "    # Layer 2: Convolutional. Output = 10x10x20.\n",
    "    w2 = tf.Variable(tf.random_normal([5, 5, 8, 20], mean=mu, stddev=sigma, seed=SEED))\n",
    "    b2 = tf.Variable(tf.random_normal([20], mean=mu, stddev=sigma, seed=SEED))\n",
    "    conv2 = conv2d(pool1, w2, b2, strides=1)\n",
    "    \n",
    "    # Activation.\n",
    "    conv2 = relu(conv2)\n",
    "    \n",
    "    # dropout\n",
    "    conv2 = tf.nn.dropout(conv2, keep_prob=keep_prob, seed=SEED)\n",
    "\n",
    "    # Pooling. Input = 10x10x20. Output = 5x5x20.\n",
    "#     pool2 = avgpool2d(conv2, k=2)\n",
    "    pool2 = maxpool2d(conv2, k=2)\n",
    "    \n",
    "    # Flatten. Input = 5x5x20. Output = 520.\n",
    "    flat = tf.reshape(pool2, [-1, 500])\n",
    "    \n",
    "    # Layer 3: Fully Connected. Input = 500. Output = 160.\n",
    "    w3 = tf.Variable(tf.random_normal([500, 160], mean=mu, stddev=sigma, seed=SEED))\n",
    "    b3 = tf.Variable(tf.random_normal([160], mean=mu, stddev=sigma, seed=SEED))\n",
    "    fully_connected_1 = tf.add(tf.matmul(flat, w3), b3)\n",
    "    \n",
    "    # Activation.\n",
    "    fully_connected_1 = relu(fully_connected_1)\n",
    "    \n",
    "    # dropout\n",
    "    fully_connected_1 = tf.nn.dropout(fully_connected_1, keep_prob=keep_prob, seed=SEED)\n",
    "    \n",
    "    # Layer 4: Fully Connected. Input = 160. Output = 120.\n",
    "    w4 = tf.Variable(tf.random_normal([160, 120], mean=mu, stddev=sigma, seed=SEED))\n",
    "    b4 = tf.Variable(tf.random_normal([120], mean=mu, stddev=sigma, seed=SEED))\n",
    "    fully_connected_2 = tf.add(tf.matmul(fully_connected_1, w4), b4)\n",
    "    \n",
    "    # Activation.\n",
    "    fully_connected_2 = relu(fully_connected_2)\n",
    "    \n",
    "    # dropout\n",
    "    fully_connected_2 = tf.nn.dropout(fully_connected_2, keep_prob=keep_prob, seed=SEED)\n",
    "\n",
    "    # Layer 5: Fully Connected. Input = 120. Output = n_classes.\n",
    "    w5 = tf.Variable(tf.random_normal([120, n_classes], mean=mu, stddev=sigma, seed=SEED))\n",
    "    b5 = tf.Variable(tf.random_normal([n_classes], mean=mu, stddev=sigma, seed=SEED))\n",
    "    logits = tf.add(tf.matmul(fully_connected_2, w5), b5)\n",
    "    \n",
    "    return logits"
   ]
  },
  {
   "cell_type": "code",
   "execution_count": 37,
   "metadata": {
    "collapsed": true
   },
   "outputs": [],
   "source": [
    "x = tf.placeholder(tf.float32, (None, 32, 32, n_color))\n",
    "y = tf.placeholder(tf.int32, (None))\n",
    "# keep_prob = tf.placeholder(tf.float32)\n",
    "\n",
    "one_hot_y = tf.one_hot(y, n_classes)"
   ]
  },
  {
   "cell_type": "markdown",
   "metadata": {},
   "source": [
    "### Train, Validate and Test the Model"
   ]
  },
  {
   "cell_type": "markdown",
   "metadata": {},
   "source": [
    "A validation set can be used to assess how well the model is performing. A low accuracy on the training and validation\n",
    "sets imply underfitting. A high accuracy on the training set but low accuracy on the validation set implies overfitting."
   ]
  },
  {
   "cell_type": "markdown",
   "metadata": {},
   "source": [
    "##### Model evaluation"
   ]
  },
  {
   "cell_type": "code",
   "execution_count": 38,
   "metadata": {
    "collapsed": true
   },
   "outputs": [],
   "source": [
    "rate = 0.002"
   ]
  },
  {
   "cell_type": "code",
   "execution_count": 39,
   "metadata": {},
   "outputs": [
    {
     "name": "stdout",
     "output_type": "stream",
     "text": [
      "WARNING:tensorflow:From <ipython-input-39-0ad6a90bc6b9>:2: softmax_cross_entropy_with_logits (from tensorflow.python.ops.nn_ops) is deprecated and will be removed in a future version.\n",
      "Instructions for updating:\n",
      "\n",
      "Future major versions of TensorFlow will allow gradients to flow\n",
      "into the labels input on backprop by default.\n",
      "\n",
      "See tf.nn.softmax_cross_entropy_with_logits_v2.\n",
      "\n"
     ]
    }
   ],
   "source": [
    "logits = LeNet(x)\n",
    "cross_entropy = tf.nn.softmax_cross_entropy_with_logits(labels=one_hot_y, logits=logits)\n",
    "\n",
    "# class_weights = tf.constant(class_weights, dtype=tf.float32)\n",
    "# weights = tf.reduce_sum(class_weights * one_hot_y, axis=1)\n",
    "# weighted_cross_entropy = cross_entropy * weights\n",
    "# ##cross_entropy = tf.multiply(cross_entropy, class_weights)\n",
    "\n",
    "# loss_operation = tf.reduce_mean(weighted_cross_entropy)\n",
    "loss_operation = tf.reduce_mean(cross_entropy)\n",
    "\n",
    "optimizer = tf.train.AdamOptimizer(learning_rate = rate)\n",
    "training_operation = optimizer.minimize(loss_operation)"
   ]
  },
  {
   "cell_type": "code",
   "execution_count": 40,
   "metadata": {
    "collapsed": true
   },
   "outputs": [],
   "source": [
    "correct_prediction = tf.equal(tf.argmax(logits, 1), tf.argmax(one_hot_y, 1))\n",
    "accuracy_operation = tf.reduce_mean(tf.cast(correct_prediction, tf.float32))\n",
    "saver = tf.train.Saver()\n",
    "\n",
    "def evaluate(X_data, y_data):\n",
    "    num_examples = len(X_data)\n",
    "    total_accuracy = 0\n",
    "    sess = tf.get_default_session()\n",
    "    for offset in range(0, num_examples, BATCH_SIZE):\n",
    "        batch_x, batch_y = X_data[offset:offset+BATCH_SIZE], y_data[offset:offset+BATCH_SIZE]\n",
    "        accuracy = sess.run(accuracy_operation, feed_dict={x: batch_x, y: batch_y})\n",
    "        total_accuracy += (accuracy * len(batch_x))\n",
    "    return total_accuracy / num_examples"
   ]
  },
  {
   "cell_type": "code",
   "execution_count": 41,
   "metadata": {
    "collapsed": true
   },
   "outputs": [],
   "source": [
    "predict_class = tf.argmax(logits, 1)\n",
    "def predict(X_data):\n",
    "    num_examples = len(X_data)\n",
    "    sess = tf.get_default_session()\n",
    "    y_list = []\n",
    "    for offset in range(0, num_examples, BATCH_SIZE):\n",
    "        batch_x = X_data[offset:offset+BATCH_SIZE]\n",
    "        batch_y = sess.run(predict_class, feed_dict={x: batch_x})\n",
    "        y_list.append(batch_y)\n",
    "    return np.hstack(y_list)"
   ]
  },
  {
   "cell_type": "markdown",
   "metadata": {},
   "source": [
    "##### Train the model"
   ]
  },
  {
   "cell_type": "code",
   "execution_count": 42,
   "metadata": {
    "collapsed": true
   },
   "outputs": [],
   "source": [
    "EPOCHS = 50\n",
    "BATCH_SIZE = 512"
   ]
  },
  {
   "cell_type": "code",
   "execution_count": 43,
   "metadata": {
    "collapsed": true
   },
   "outputs": [],
   "source": [
    "early_stopping = 10 # stop after n epochs without improvement\n",
    "train_acc_list = []\n",
    "validation_acc_list = []"
   ]
  },
  {
   "cell_type": "code",
   "execution_count": 44,
   "metadata": {
    "collapsed": true
   },
   "outputs": [],
   "source": [
    "model_name = './traffic_sign_classifier_{}_{}_{}_{}'.format(strftime(\"%Y%m%d_%H%M%S\", gmtime()), BATCH_SIZE, rate, keep_prob)"
   ]
  },
  {
   "cell_type": "code",
   "execution_count": 45,
   "metadata": {
    "scrolled": false
   },
   "outputs": [
    {
     "name": "stdout",
     "output_type": "stream",
     "text": [
      "Training...\n",
      "\n",
      "EPOCH 1 ...\n",
      "Train Accuracy = 0.510\n",
      "Validation Accuracy = 0.504\n",
      "Time taken = 63.3\n",
      "Model saved, epoch: 1\n",
      "\n",
      "EPOCH 2 ...\n",
      "Train Accuracy = 0.700\n",
      "Validation Accuracy = 0.679\n",
      "Time taken = 63.1\n",
      "Model saved, epoch: 2\n",
      "\n",
      "EPOCH 3 ...\n",
      "Train Accuracy = 0.779\n",
      "Validation Accuracy = 0.738\n",
      "Time taken = 63.2\n",
      "Model saved, epoch: 3\n",
      "\n",
      "EPOCH 4 ...\n",
      "Train Accuracy = 0.819\n",
      "Validation Accuracy = 0.774\n",
      "Time taken = 63.1\n",
      "Model saved, epoch: 4\n",
      "\n",
      "EPOCH 5 ...\n",
      "Train Accuracy = 0.858\n",
      "Validation Accuracy = 0.804\n",
      "Time taken = 63.3\n",
      "Model saved, epoch: 5\n",
      "\n",
      "EPOCH 6 ...\n",
      "Train Accuracy = 0.877\n",
      "Validation Accuracy = 0.824\n",
      "Time taken = 62.7\n",
      "Model saved, epoch: 6\n",
      "\n",
      "EPOCH 7 ...\n",
      "Train Accuracy = 0.892\n",
      "Validation Accuracy = 0.844\n",
      "Time taken = 63.0\n",
      "Model saved, epoch: 7\n",
      "\n",
      "EPOCH 8 ...\n",
      "Train Accuracy = 0.907\n",
      "Validation Accuracy = 0.855\n",
      "Time taken = 62.5\n",
      "Model saved, epoch: 8\n",
      "\n",
      "EPOCH 9 ...\n",
      "Train Accuracy = 0.910\n",
      "Validation Accuracy = 0.860\n",
      "Time taken = 62.7\n",
      "Model saved, epoch: 9\n",
      "\n",
      "EPOCH 10 ...\n",
      "Train Accuracy = 0.919\n",
      "Validation Accuracy = 0.875\n",
      "Time taken = 62.7\n",
      "Model saved, epoch: 10\n",
      "\n",
      "EPOCH 11 ...\n",
      "Train Accuracy = 0.929\n",
      "Validation Accuracy = 0.872\n",
      "Time taken = 64.4\n",
      "\n",
      "EPOCH 12 ...\n",
      "Train Accuracy = 0.936\n",
      "Validation Accuracy = 0.878\n",
      "Time taken = 63.5\n",
      "Model saved, epoch: 12\n",
      "\n",
      "EPOCH 13 ...\n",
      "Train Accuracy = 0.939\n",
      "Validation Accuracy = 0.886\n",
      "Time taken = 62.6\n",
      "Model saved, epoch: 13\n",
      "\n",
      "EPOCH 14 ...\n",
      "Train Accuracy = 0.945\n",
      "Validation Accuracy = 0.903\n",
      "Time taken = 63.7\n",
      "Model saved, epoch: 14\n",
      "\n",
      "EPOCH 15 ...\n",
      "Train Accuracy = 0.948\n",
      "Validation Accuracy = 0.906\n",
      "Time taken = 62.9\n",
      "Model saved, epoch: 15\n",
      "\n",
      "EPOCH 16 ...\n",
      "Train Accuracy = 0.948\n",
      "Validation Accuracy = 0.905\n",
      "Time taken = 62.7\n",
      "\n",
      "EPOCH 17 ...\n",
      "Train Accuracy = 0.952\n",
      "Validation Accuracy = 0.900\n",
      "Time taken = 62.8\n",
      "\n",
      "EPOCH 18 ...\n",
      "Train Accuracy = 0.952\n",
      "Validation Accuracy = 0.908\n",
      "Time taken = 63.0\n",
      "Model saved, epoch: 18\n",
      "\n",
      "EPOCH 19 ...\n",
      "Train Accuracy = 0.959\n",
      "Validation Accuracy = 0.911\n",
      "Time taken = 63.1\n",
      "Model saved, epoch: 19\n",
      "\n",
      "EPOCH 20 ...\n",
      "Train Accuracy = 0.961\n",
      "Validation Accuracy = 0.912\n",
      "Time taken = 62.7\n",
      "Model saved, epoch: 20\n",
      "\n",
      "EPOCH 21 ...\n",
      "Train Accuracy = 0.959\n",
      "Validation Accuracy = 0.916\n",
      "Time taken = 62.7\n",
      "Model saved, epoch: 21\n",
      "\n",
      "EPOCH 22 ...\n",
      "Train Accuracy = 0.964\n",
      "Validation Accuracy = 0.920\n",
      "Time taken = 62.6\n",
      "Model saved, epoch: 22\n",
      "\n",
      "EPOCH 23 ...\n",
      "Train Accuracy = 0.965\n",
      "Validation Accuracy = 0.920\n",
      "Time taken = 62.6\n",
      "Model saved, epoch: 23\n",
      "\n",
      "EPOCH 24 ...\n",
      "Train Accuracy = 0.966\n",
      "Validation Accuracy = 0.922\n",
      "Time taken = 62.8\n",
      "Model saved, epoch: 24\n",
      "\n",
      "EPOCH 25 ...\n",
      "Train Accuracy = 0.968\n",
      "Validation Accuracy = 0.929\n",
      "Time taken = 62.5\n",
      "Model saved, epoch: 25\n",
      "\n",
      "EPOCH 26 ...\n",
      "Train Accuracy = 0.968\n",
      "Validation Accuracy = 0.920\n",
      "Time taken = 62.9\n",
      "\n",
      "EPOCH 27 ...\n",
      "Train Accuracy = 0.969\n",
      "Validation Accuracy = 0.929\n",
      "Time taken = 64.0\n",
      "Model saved, epoch: 27\n",
      "\n",
      "EPOCH 28 ...\n",
      "Train Accuracy = 0.971\n",
      "Validation Accuracy = 0.928\n",
      "Time taken = 62.9\n",
      "\n",
      "EPOCH 29 ...\n",
      "Train Accuracy = 0.968\n",
      "Validation Accuracy = 0.924\n",
      "Time taken = 62.6\n",
      "\n",
      "EPOCH 30 ...\n",
      "Train Accuracy = 0.971\n",
      "Validation Accuracy = 0.929\n",
      "Time taken = 62.6\n",
      "\n",
      "EPOCH 31 ...\n",
      "Train Accuracy = 0.973\n",
      "Validation Accuracy = 0.935\n",
      "Time taken = 62.7\n",
      "Model saved, epoch: 31\n",
      "\n",
      "EPOCH 32 ...\n",
      "Train Accuracy = 0.973\n",
      "Validation Accuracy = 0.929\n",
      "Time taken = 62.8\n",
      "\n",
      "EPOCH 33 ...\n",
      "Train Accuracy = 0.974\n",
      "Validation Accuracy = 0.930\n",
      "Time taken = 63.2\n",
      "\n",
      "EPOCH 34 ...\n",
      "Train Accuracy = 0.974\n",
      "Validation Accuracy = 0.932\n",
      "Time taken = 62.5\n",
      "\n",
      "EPOCH 35 ...\n",
      "Train Accuracy = 0.974\n",
      "Validation Accuracy = 0.935\n",
      "Time taken = 62.6\n",
      "Model saved, epoch: 35\n",
      "\n",
      "EPOCH 36 ...\n",
      "Train Accuracy = 0.976\n",
      "Validation Accuracy = 0.933\n",
      "Time taken = 62.8\n",
      "\n",
      "EPOCH 37 ...\n",
      "Train Accuracy = 0.976\n",
      "Validation Accuracy = 0.940\n",
      "Time taken = 62.5\n",
      "Model saved, epoch: 37\n",
      "\n",
      "EPOCH 38 ...\n",
      "Train Accuracy = 0.976\n",
      "Validation Accuracy = 0.940\n",
      "Time taken = 63.0\n",
      "\n",
      "EPOCH 39 ...\n",
      "Train Accuracy = 0.976\n",
      "Validation Accuracy = 0.938\n",
      "Time taken = 63.0\n",
      "\n",
      "EPOCH 40 ...\n",
      "Train Accuracy = 0.977\n",
      "Validation Accuracy = 0.933\n",
      "Time taken = 62.9\n",
      "\n",
      "EPOCH 41 ...\n",
      "Train Accuracy = 0.978\n",
      "Validation Accuracy = 0.927\n",
      "Time taken = 64.7\n",
      "\n",
      "EPOCH 42 ...\n",
      "Train Accuracy = 0.979\n",
      "Validation Accuracy = 0.941\n",
      "Time taken = 64.1\n",
      "Model saved, epoch: 42\n",
      "\n",
      "EPOCH 43 ...\n",
      "Train Accuracy = 0.978\n",
      "Validation Accuracy = 0.933\n",
      "Time taken = 64.5\n",
      "\n",
      "EPOCH 44 ...\n",
      "Train Accuracy = 0.979\n",
      "Validation Accuracy = 0.936\n",
      "Time taken = 62.8\n",
      "\n",
      "EPOCH 45 ...\n",
      "Train Accuracy = 0.977\n",
      "Validation Accuracy = 0.933\n",
      "Time taken = 62.8\n",
      "\n",
      "EPOCH 46 ...\n",
      "Train Accuracy = 0.978\n",
      "Validation Accuracy = 0.939\n",
      "Time taken = 62.8\n",
      "\n",
      "EPOCH 47 ...\n",
      "Train Accuracy = 0.976\n",
      "Validation Accuracy = 0.938\n",
      "Time taken = 63.0\n",
      "\n",
      "EPOCH 48 ...\n",
      "Train Accuracy = 0.979\n",
      "Validation Accuracy = 0.941\n",
      "Time taken = 63.2\n",
      "\n",
      "EPOCH 49 ...\n",
      "Train Accuracy = 0.976\n",
      "Validation Accuracy = 0.934\n",
      "Time taken = 64.3\n",
      "\n",
      "EPOCH 50 ...\n",
      "Train Accuracy = 0.981\n",
      "Validation Accuracy = 0.944\n",
      "Time taken = 62.7\n",
      "Model saved, epoch: 50\n",
      "\n"
     ]
    }
   ],
   "source": [
    "tf.set_random_seed(SEED)\n",
    "with tf.Session() as sess:\n",
    "    sess.run(tf.global_variables_initializer())\n",
    "    num_examples = len(X_train)\n",
    "    \n",
    "    print(\"Training...\")\n",
    "    print()\n",
    "    for i in range(EPOCHS):\n",
    "        start = time.time()\n",
    "        X_train, y_train = shuffle(X_train, y_train)\n",
    "        for offset in range(0, num_examples, BATCH_SIZE):\n",
    "            end = offset + BATCH_SIZE\n",
    "            batch_x, batch_y = X_train[offset:end], y_train[offset:end]\n",
    "            sess.run(training_operation, feed_dict={x: batch_x, y: batch_y})\n",
    "            \n",
    "        train_accuracy = evaluate(X_train, y_train)\n",
    "        validation_accuracy = evaluate(X_valid, y_valid)\n",
    "        train_acc_list.append(train_accuracy)\n",
    "        validation_acc_list.append(validation_accuracy)\n",
    "        print(\"EPOCH {} ...\".format(i+1))\n",
    "        print(\"Train Accuracy = {:.3f}\".format(train_accuracy))\n",
    "        print(\"Validation Accuracy = {:.3f}\".format(validation_accuracy))\n",
    "        print(\"Time taken = {:.1f}\".format(time.time() - start))\n",
    "        \n",
    "        if validation_accuracy == max(validation_acc_list):\n",
    "            saver.save(sess, model_name)\n",
    "            print(\"Model saved, epoch:\", i+1)\n",
    "        \n",
    "        if len(validation_acc_list) > early_stopping and (max(validation_acc_list[-early_stopping:]) < max(validation_acc_list)):\n",
    "            print(\"Training accuracy hasn't improved for 5 epochs. Stopping..\")\n",
    "            break\n",
    "        print()"
   ]
  },
  {
   "cell_type": "code",
   "execution_count": 46,
   "metadata": {},
   "outputs": [
    {
     "data": {
      "text/plain": [
       "(array([ 0,  1,  2,  3,  4,  5,  6,  7,  8,  9, 10, 11, 12, 13, 14, 15, 16,\n",
       "        17, 18, 19, 20, 21, 22, 23, 24, 25, 26, 27, 28, 29, 30, 31, 32, 33,\n",
       "        34, 35, 36, 37, 38, 39, 40, 41, 42], dtype=int64),\n",
       " array([1171, 2372, 2402, 1514, 2131, 1955,  947, 1510, 1491, 1549, 2145,\n",
       "        1422, 2263, 2327, 1007,  969,  908, 1461, 1293, 1135,  949, 1021,\n",
       "        1014,  942, 1006, 1612,  969, 1039, 1039,  998, 1014, 1006, 1009,\n",
       "        1098,  921, 1310,  996, 1170, 2213, 1038,  975, 1039, 1047], dtype=int64))"
      ]
     },
     "execution_count": 46,
     "metadata": {},
     "output_type": "execute_result"
    }
   ],
   "source": [
    "np.unique(y_train, return_counts=True)"
   ]
  },
  {
   "cell_type": "code",
   "execution_count": 47,
   "metadata": {},
   "outputs": [
    {
     "data": {
      "text/plain": [
       "(array([ 0,  1,  2,  3,  4,  5,  6,  7,  8,  9, 10, 11, 12, 13, 14, 15, 16,\n",
       "        17, 18, 19, 20, 21, 22, 23, 24, 25, 26, 27, 28, 29, 30, 31, 32, 33,\n",
       "        34, 35, 36, 37, 38, 39, 40, 41, 42], dtype=uint8),\n",
       " array([ 30, 240, 240, 150, 210, 210,  60, 150, 150, 150, 210, 150, 210,\n",
       "        240,  90,  90,  60, 120, 120,  30,  60,  60,  60,  60,  30, 150,\n",
       "         60,  30,  60,  30,  60,  90,  30,  90,  60, 120,  60,  30, 210,\n",
       "         30,  60,  30,  30], dtype=int64))"
      ]
     },
     "execution_count": 47,
     "metadata": {},
     "output_type": "execute_result"
    }
   ],
   "source": [
    "np.unique(y_valid, return_counts=True)"
   ]
  },
  {
   "cell_type": "code",
   "execution_count": 48,
   "metadata": {
    "collapsed": true
   },
   "outputs": [],
   "source": [
    "def plot_confusion_matrix(y_true, y_pred, classes,\n",
    "                          normalize=False,\n",
    "                          title=None,\n",
    "                          cmap=plt.cm.Blues):\n",
    "    \"\"\"\n",
    "    This function prints and plots the confusion matrix.\n",
    "    Normalization can be applied by setting `normalize=True`.\n",
    "    \"\"\"\n",
    "    if not title:\n",
    "        if normalize:\n",
    "            title = 'Normalized confusion matrix'\n",
    "        else:\n",
    "            title = 'Confusion matrix, without normalization'\n",
    "\n",
    "    # Compute confusion matrix\n",
    "    cm = confusion_matrix(y_true, y_pred)\n",
    "    # Only use the labels that appear in the data\n",
    "#     classes = classes[unique_labels(y_true, y_pred)]\n",
    "    if normalize:\n",
    "        cm = cm.astype('float') / cm.sum(axis=1)[:, np.newaxis]\n",
    "        print(\"Normalized confusion matrix\")\n",
    "    else:\n",
    "        print('Confusion matrix, without normalization')\n",
    "\n",
    "    print(cm)\n",
    "\n",
    "    fig, ax = plt.subplots()\n",
    "    im = ax.imshow(cm, interpolation='nearest', cmap=cmap)\n",
    "    ax.figure.colorbar(im, ax=ax)\n",
    "    # We want to show all ticks...\n",
    "    ax.set(xticks=np.arange(cm.shape[1]),\n",
    "           yticks=np.arange(cm.shape[0]),\n",
    "           # ... and label them with the respective list entries\n",
    "           xticklabels=classes, yticklabels=classes,\n",
    "           title=title,\n",
    "           ylabel='True label',\n",
    "           xlabel='Predicted label')\n",
    "\n",
    "    # Rotate the tick labels and set their alignment.\n",
    "    plt.setp(ax.get_xticklabels(), rotation=45, ha=\"right\",\n",
    "             rotation_mode=\"anchor\")\n",
    "\n",
    "    # Loop over data dimensions and create text annotations.\n",
    "    fmt = '.2f' if normalize else 'd'\n",
    "    thresh = cm.max() / 2.\n",
    "    for i in range(cm.shape[0]):\n",
    "        for j in range(cm.shape[1]):\n",
    "            ax.text(j, i, format(cm[i, j], fmt),\n",
    "                    ha=\"center\", va=\"center\",\n",
    "                    color=\"white\" if cm[i, j] > thresh else \"black\")\n",
    "    fig.tight_layout()\n",
    "    return cm"
   ]
  },
  {
   "cell_type": "code",
   "execution_count": 49,
   "metadata": {},
   "outputs": [
    {
     "name": "stdout",
     "output_type": "stream",
     "text": [
      "INFO:tensorflow:Restoring parameters from .\\traffic_sign_classifier_20191123_034426_512_0.002_0.7\n"
     ]
    }
   ],
   "source": [
    "with tf.Session() as sess:\n",
    "    saver.restore(sess, tf.train.latest_checkpoint('.'))\n",
    "    y_valid_pred = predict(X_valid)"
   ]
  },
  {
   "cell_type": "code",
   "execution_count": 50,
   "metadata": {
    "collapsed": true
   },
   "outputs": [],
   "source": [
    "classes = [str(i) for i in range(len(np.unique(y_valid)))]"
   ]
  },
  {
   "cell_type": "code",
   "execution_count": 51,
   "metadata": {},
   "outputs": [
    {
     "name": "stdout",
     "output_type": "stream",
     "text": [
      "Normalized confusion matrix\n",
      "[[ 0.87  0.03  0.   ...,  0.    0.    0.  ]\n",
      " [ 0.02  0.91  0.04 ...,  0.    0.    0.  ]\n",
      " [ 0.    0.02  0.95 ...,  0.    0.    0.  ]\n",
      " ..., \n",
      " [ 0.02  0.07  0.   ...,  0.77  0.    0.  ]\n",
      " [ 0.    0.    0.   ...,  0.    0.77  0.  ]\n",
      " [ 0.    0.    0.   ...,  0.    0.    0.8 ]]\n"
     ]
    },
    {
     "data": {
      "image/png": "[encoded data removed]",
      "text/plain": [
       "<matplotlib.figure.Figure at 0x260431565f8>"
      ]
     },
     "metadata": {},
     "output_type": "display_data"
    }
   ],
   "source": [
    "np.set_printoptions(precision=2)\n",
    "\n",
    "# # Plot non-normalized confusion matrix\n",
    "# plot_confusion_matrix(y_valid, y_valid_pred, classes=classes,\n",
    "#                       title='Confusion matrix, without normalization')\n",
    "\n",
    "# Plot normalized confusion matrix\n",
    "cm_acc = plot_confusion_matrix(y_valid, y_valid_pred, classes=classes, normalize=True,\n",
    "                               title='Normalized confusion matrix')\n",
    "\n",
    "plt.show()"
   ]
  },
  {
   "cell_type": "code",
   "execution_count": 52,
   "metadata": {},
   "outputs": [
    {
     "data": {
      "text/plain": [
       "array([ 0.87,  0.91,  0.95,  0.94,  1.  ,  0.9 ,  1.  ,  0.95,  0.91,\n",
       "        0.99,  1.  ,  0.94,  0.96,  0.99,  0.98,  0.99,  0.97,  0.87,\n",
       "        0.96,  1.  ,  0.73,  0.63,  0.95,  0.95,  0.87,  0.89,  0.93,\n",
       "        0.7 ,  1.  ,  0.97,  0.97,  0.99,  0.97,  0.91,  0.85,  0.95,\n",
       "        1.  ,  1.  ,  0.98,  1.  ,  0.77,  0.77,  0.8 ])"
      ]
     },
     "execution_count": 52,
     "metadata": {},
     "output_type": "execute_result"
    }
   ],
   "source": [
    "np.diagonal(cm_acc)"
   ]
  },
  {
   "cell_type": "code",
   "execution_count": 53,
   "metadata": {
    "collapsed": true
   },
   "outputs": [],
   "source": [
    "c=0\n",
    "for img, y_label in zip(X_valid[(y_valid_pred!=y_valid)], y_valid[(y_valid_pred!=y_valid)]):\n",
    "    c+=1\n",
    "    plt.imsave(\"debug_imgs/img_{}_label{}.png\".format(c, y_label), img.squeeze(), cmap='gray')"
   ]
  },
  {
   "cell_type": "code",
   "execution_count": 54,
   "metadata": {
    "collapsed": true
   },
   "outputs": [],
   "source": [
    "# np.savetxt(X=cm_acc, delimiter=',', fname='cm.csv')"
   ]
  },
  {
   "cell_type": "code",
   "execution_count": 55,
   "metadata": {},
   "outputs": [
    {
     "data": {
      "text/plain": [
       "0.937641723356009"
      ]
     },
     "execution_count": 55,
     "metadata": {},
     "output_type": "execute_result"
    }
   ],
   "source": [
    "len(np.where(y_valid_pred==y_valid)[0])/len(y_valid)"
   ]
  },
  {
   "cell_type": "markdown",
   "metadata": {},
   "source": [
    "---\n",
    "\n",
    "## Step 3: Test a Model on New Images\n",
    "\n",
    "To give yourself more insight into how your model is working, download at least five pictures of German traffic signs from the web and use your model to predict the traffic sign type.\n",
    "\n",
    "You may find `signnames.csv` useful as it contains mappings from the class id (integer) to the actual sign name."
   ]
  },
  {
   "cell_type": "markdown",
   "metadata": {},
   "source": [
    "### Load and Output the Images"
   ]
  },
  {
   "cell_type": "code",
   "execution_count": 56,
   "metadata": {},
   "outputs": [],
   "source": [
    "web_test_imgs = [os.path.join(\"web_images_test\", f) for f in os.listdir(\"web_images_test/\") \n",
    "                 if f.endswith(\".jpg\") or f.endswith(\".png\")]"
   ]
  },
  {
   "cell_type": "code",
   "execution_count": 57,
   "metadata": {},
   "outputs": [],
   "source": [
    "X_web_test = np.array([cv2.resize(cv2.imread(img_i), (32,32)) for img_i in web_test_imgs])"
   ]
  },
  {
   "cell_type": "code",
   "execution_count": 58,
   "metadata": {},
   "outputs": [],
   "source": [
    "if X_web_test.shape[-1]==3:\n",
    "    X_web_test = rgb_to_gray(X_web_test)\n",
    "else:\n",
    "    print(\"Already converted to gray\")"
   ]
  },
  {
   "cell_type": "code",
   "execution_count": 59,
   "metadata": {
    "scrolled": false
   },
   "outputs": [
    {
     "data": {
      "image/png": "[encoded data removed]",
      "text/plain": [
       "<matplotlib.figure.Figure at 0x260264699b0>"
      ]
     },
     "metadata": {},
     "output_type": "display_data"
    },
    {
     "data": {
      "image/png": "[encoded data removed]",
      "text/plain": [
       "<matplotlib.figure.Figure at 0x260264fe240>"
      ]
     },
     "metadata": {},
     "output_type": "display_data"
    },
    {
     "data": {
      "image/png": "[encoded data removed]",
      "text/plain": [
       "<matplotlib.figure.Figure at 0x260264941d0>"
      ]
     },
     "metadata": {},
     "output_type": "display_data"
    },
    {
     "data": {
      "image/png": "[encoded data removed]",
      "text/plain": [
       "<matplotlib.figure.Figure at 0x26026604198>"
      ]
     },
     "metadata": {},
     "output_type": "display_data"
    },
    {
     "data": {
      "image/png": "[encoded data removed]",
      "text/plain": [
       "<matplotlib.figure.Figure at 0x26026589080>"
      ]
     },
     "metadata": {},
     "output_type": "display_data"
    },
    {
     "data": {
      "image/png": "[encoded data removed]",
      "text/plain": [
       "<matplotlib.figure.Figure at 0x26026729278>"
      ]
     },
     "metadata": {},
     "output_type": "display_data"
    },
    {
     "data": {
      "image/png": "[encoded data removed]",
      "text/plain": [
       "<matplotlib.figure.Figure at 0x26026699668>"
      ]
     },
     "metadata": {},
     "output_type": "display_data"
    },
    {
     "data": {
      "image/png": "[encoded data removed]",
      "text/plain": [
       "<matplotlib.figure.Figure at 0x2602698e3c8>"
      ]
     },
     "metadata": {},
     "output_type": "display_data"
    },
    {
     "data": {
      "image/png": "[encoded data removed]",
      "text/plain": [
       "<matplotlib.figure.Figure at 0x260269f39b0>"
      ]
     },
     "metadata": {},
     "output_type": "display_data"
    },
    {
     "data": {
      "image/png": "[encoded data removed]",
      "text/plain": [
       "<matplotlib.figure.Figure at 0x26026a74198>"
      ]
     },
     "metadata": {},
     "output_type": "display_data"
    },
    {
     "data": {
      "image/png": "[encoded data removed]",
      "text/plain": [
       "<matplotlib.figure.Figure at 0x26026ad6be0>"
      ]
     },
     "metadata": {},
     "output_type": "display_data"
    },
    {
     "data": {
      "image/png": "[encoded data removed]",
      "text/plain": [
       "<matplotlib.figure.Figure at 0x26026b539e8>"
      ]
     },
     "metadata": {},
     "output_type": "display_data"
    }
   ],
   "source": [
    "for img_ in X_web_test:\n",
    "    plt.figure(figsize=(1,1))\n",
    "    plt.imshow(img_.squeeze(), cmap='gray')"
   ]
  },
  {
   "cell_type": "markdown",
   "metadata": {},
   "source": [
    "### Predict the Sign Type for Each Image"
   ]
  },
  {
   "cell_type": "code",
   "execution_count": 60,
   "metadata": {},
   "outputs": [
    {
     "name": "stdout",
     "output_type": "stream",
     "text": [
      "INFO:tensorflow:Restoring parameters from .\\traffic_sign_classifier_20191123_034426_512_0.002_0.7\n"
     ]
    }
   ],
   "source": [
    "with tf.Session() as sess:\n",
    "    saver.restore(sess, tf.train.latest_checkpoint('.'))\n",
    "    y_web_pred = predict(X_web_test)"
   ]
  },
  {
   "cell_type": "code",
   "execution_count": 61,
   "metadata": {},
   "outputs": [
    {
     "data": {
      "text/plain": [
       "array([21, 41, 27,  2,  1,  2,  4,  5,  5, 14, 14, 13], dtype=int64)"
      ]
     },
     "execution_count": 61,
     "metadata": {},
     "output_type": "execute_result"
    }
   ],
   "source": [
    "y_web_pred"
   ]
  },
  {
   "cell_type": "code",
   "execution_count": 62,
   "metadata": {},
   "outputs": [],
   "source": [
    "df_names = pd.read_csv(\"signnames.csv\")"
   ]
  },
  {
   "cell_type": "code",
   "execution_count": 63,
   "metadata": {},
   "outputs": [
    {
     "data": {
      "text/plain": [
       "['web_images_test\\\\double_bend.png',\n",
       " 'web_images_test\\\\end_speed_limit.png',\n",
       " 'web_images_test\\\\pedestrian.jpg',\n",
       " 'web_images_test\\\\speed_limit_130.png',\n",
       " 'web_images_test\\\\speed_limit_30.png',\n",
       " 'web_images_test\\\\speed_limit_50.png',\n",
       " 'web_images_test\\\\speed_limit_70.jpg',\n",
       " 'web_images_test\\\\speed_limit_80.png',\n",
       " 'web_images_test\\\\speed_limit_80_2.png',\n",
       " 'web_images_test\\\\stop.png',\n",
       " 'web_images_test\\\\stop_2.png',\n",
       " 'web_images_test\\\\yield.png']"
      ]
     },
     "execution_count": 63,
     "metadata": {},
     "output_type": "execute_result"
    }
   ],
   "source": [
    "web_test_imgs"
   ]
  },
  {
   "cell_type": "code",
   "execution_count": 64,
   "metadata": {},
   "outputs": [
    {
     "data": {
      "text/html": [
       "<div>\n",
       "<style>\n",
       "    .dataframe thead tr:only-child th {\n",
       "        text-align: right;\n",
       "    }\n",
       "\n",
       "    .dataframe thead th {\n",
       "        text-align: left;\n",
       "    }\n",
       "\n",
       "    .dataframe tbody tr th {\n",
       "        vertical-align: top;\n",
       "    }\n",
       "</style>\n",
       "<table border=\"1\" class=\"dataframe\">\n",
       "  <thead>\n",
       "    <tr style=\"text-align: right;\">\n",
       "      <th></th>\n",
       "      <th>ClassId</th>\n",
       "      <th>SignName</th>\n",
       "    </tr>\n",
       "  </thead>\n",
       "  <tbody>\n",
       "    <tr>\n",
       "      <th>21</th>\n",
       "      <td>21</td>\n",
       "      <td>Double curve</td>\n",
       "    </tr>\n",
       "    <tr>\n",
       "      <th>41</th>\n",
       "      <td>41</td>\n",
       "      <td>End of no passing</td>\n",
       "    </tr>\n",
       "    <tr>\n",
       "      <th>27</th>\n",
       "      <td>27</td>\n",
       "      <td>Pedestrians</td>\n",
       "    </tr>\n",
       "    <tr>\n",
       "      <th>2</th>\n",
       "      <td>2</td>\n",
       "      <td>Speed limit (50km/h)</td>\n",
       "    </tr>\n",
       "    <tr>\n",
       "      <th>1</th>\n",
       "      <td>1</td>\n",
       "      <td>Speed limit (30km/h)</td>\n",
       "    </tr>\n",
       "    <tr>\n",
       "      <th>2</th>\n",
       "      <td>2</td>\n",
       "      <td>Speed limit (50km/h)</td>\n",
       "    </tr>\n",
       "    <tr>\n",
       "      <th>4</th>\n",
       "      <td>4</td>\n",
       "      <td>Speed limit (70km/h)</td>\n",
       "    </tr>\n",
       "    <tr>\n",
       "      <th>5</th>\n",
       "      <td>5</td>\n",
       "      <td>Speed limit (80km/h)</td>\n",
       "    </tr>\n",
       "    <tr>\n",
       "      <th>5</th>\n",
       "      <td>5</td>\n",
       "      <td>Speed limit (80km/h)</td>\n",
       "    </tr>\n",
       "    <tr>\n",
       "      <th>14</th>\n",
       "      <td>14</td>\n",
       "      <td>Stop</td>\n",
       "    </tr>\n",
       "    <tr>\n",
       "      <th>14</th>\n",
       "      <td>14</td>\n",
       "      <td>Stop</td>\n",
       "    </tr>\n",
       "    <tr>\n",
       "      <th>13</th>\n",
       "      <td>13</td>\n",
       "      <td>Yield</td>\n",
       "    </tr>\n",
       "  </tbody>\n",
       "</table>\n",
       "</div>"
      ],
      "text/plain": [
       "    ClassId              SignName\n",
       "21       21          Double curve\n",
       "41       41     End of no passing\n",
       "27       27           Pedestrians\n",
       "2         2  Speed limit (50km/h)\n",
       "1         1  Speed limit (30km/h)\n",
       "2         2  Speed limit (50km/h)\n",
       "4         4  Speed limit (70km/h)\n",
       "5         5  Speed limit (80km/h)\n",
       "5         5  Speed limit (80km/h)\n",
       "14       14                  Stop\n",
       "14       14                  Stop\n",
       "13       13                 Yield"
      ]
     },
     "execution_count": 64,
     "metadata": {},
     "output_type": "execute_result"
    }
   ],
   "source": [
    "df_names.iloc[y_web_pred]"
   ]
  },
  {
   "cell_type": "markdown",
   "metadata": {},
   "source": [
    "### Analyze Performance"
   ]
  },
  {
   "cell_type": "code",
   "execution_count": 65,
   "metadata": {
    "collapsed": true
   },
   "outputs": [],
   "source": [
    "### Calculate the accuracy for these 5 new images. \n",
    "### For example, if the model predicted 1 out of 5 signs correctly, it's 20% accurate on these new images."
   ]
  },
  {
   "cell_type": "markdown",
   "metadata": {},
   "source": [
    "### Output Top 5 Softmax Probabilities For Each Image Found on the Web"
   ]
  },
  {
   "cell_type": "markdown",
   "metadata": {},
   "source": [
    "For each of the new images, print out the model's softmax probabilities to show the **certainty** of the model's predictions (limit the output to the top 5 probabilities for each image). [`tf.nn.top_k`](https://www.tensorflow.org/versions/r0.12/api_docs/python/nn.html#top_k) could prove helpful here. \n",
    "\n",
    "The example below demonstrates how tf.nn.top_k can be used to find the top k predictions for each image.\n",
    "\n",
    "`tf.nn.top_k` will return the values and indices (class ids) of the top k predictions. So if k=3, for each sign, it'll return the 3 largest probabilities (out of a possible 43) and the correspoding class ids.\n",
    "\n",
    "Take this numpy array as an example. The values in the array represent predictions. The array contains softmax probabilities for five candidate images with six possible classes. `tf.nn.top_k` is used to choose the three classes with the highest probability:\n",
    "\n",
    "```\n",
    "# (5, 6) array\n",
    "a = np.array([[ 0.24879643,  0.07032244,  0.12641572,  0.34763842,  0.07893497,\n",
    "         0.12789202],\n",
    "       [ 0.28086119,  0.27569815,  0.08594638,  0.0178669 ,  0.18063401,\n",
    "         0.15899337],\n",
    "       [ 0.26076848,  0.23664738,  0.08020603,  0.07001922,  0.1134371 ,\n",
    "         0.23892179],\n",
    "       [ 0.11943333,  0.29198961,  0.02605103,  0.26234032,  0.1351348 ,\n",
    "         0.16505091],\n",
    "       [ 0.09561176,  0.34396535,  0.0643941 ,  0.16240774,  0.24206137,\n",
    "         0.09155967]])\n",
    "```\n",
    "\n",
    "Running it through `sess.run(tf.nn.top_k(tf.constant(a), k=3))` produces:\n",
    "\n",
    "```\n",
    "TopKV2(values=array([[ 0.34763842,  0.24879643,  0.12789202],\n",
    "       [ 0.28086119,  0.27569815,  0.18063401],\n",
    "       [ 0.26076848,  0.23892179,  0.23664738],\n",
    "       [ 0.29198961,  0.26234032,  0.16505091],\n",
    "       [ 0.34396535,  0.24206137,  0.16240774]]), indices=array([[3, 0, 5],\n",
    "       [0, 1, 4],\n",
    "       [0, 5, 1],\n",
    "       [1, 3, 5],\n",
    "       [1, 4, 3]], dtype=int32))\n",
    "```\n",
    "\n",
    "Looking just at the first row we get `[ 0.34763842,  0.24879643,  0.12789202]`, you can confirm these are the 3 largest probabilities in `a`. You'll also notice `[3, 0, 5]` are the corresponding indices."
   ]
  },
  {
   "cell_type": "code",
   "execution_count": 66,
   "metadata": {
    "collapsed": true
   },
   "outputs": [],
   "source": [
    "### Print out the top five softmax probabilities for the predictions on the German traffic sign images found on the web. \n",
    "### Feel free to use as many code cells as needed."
   ]
  },
  {
   "cell_type": "markdown",
   "metadata": {},
   "source": [
    "### Project Writeup\n",
    "\n",
    "Once you have completed the code implementation, document your results in a project writeup using this [template](https://github.com/udacity/CarND-Traffic-Sign-Classifier-Project/blob/master/writeup_template.md) as a guide. The writeup can be in a markdown or pdf file. "
   ]
  },
  {
   "cell_type": "markdown",
   "metadata": {},
   "source": [
    "> **Note**: Once you have completed all of the code implementations and successfully answered each question above, you may finalize your work by exporting the iPython Notebook as an HTML document. You can do this by using the menu above and navigating to  \\n\",\n",
    "    \"**File -> Download as -> HTML (.html)**. Include the finished document along with this notebook as your submission."
   ]
  },
  {
   "cell_type": "markdown",
   "metadata": {},
   "source": [
    "---\n",
    "\n",
    "## Step 4 (Optional): Visualize the Neural Network's State with Test Images\n",
    "\n",
    " This Section is not required to complete but acts as an additional excersise for understaning the output of a neural network's weights. While neural networks can be a great learning device they are often referred to as a black box. We can understand what the weights of a neural network look like better by plotting their feature maps. After successfully training your neural network you can see what it's feature maps look like by plotting the output of the network's weight layers in response to a test stimuli image. From these plotted feature maps, it's possible to see what characteristics of an image the network finds interesting. For a sign, maybe the inner network feature maps react with high activation to the sign's boundary outline or to the contrast in the sign's painted symbol.\n",
    "\n",
    " Provided for you below is the function code that allows you to get the visualization output of any tensorflow weight layer you want. The inputs to the function should be a stimuli image, one used during training or a new one you provided, and then the tensorflow variable name that represents the layer's state during the training process, for instance if you wanted to see what the [LeNet lab's](https://classroom.udacity.com/nanodegrees/nd013/parts/fbf77062-5703-404e-b60c-95b78b2f3f9e/modules/6df7ae49-c61c-4bb2-a23e-6527e69209ec/lessons/601ae704-1035-4287-8b11-e2c2716217ad/concepts/d4aca031-508f-4e0b-b493-e7b706120f81) feature maps looked like for it's second convolutional layer you could enter conv2 as the tf_activation variable.\n",
    "\n",
    "For an example of what feature map outputs look like, check out NVIDIA's results in their paper [End-to-End Deep Learning for Self-Driving Cars](https://devblogs.nvidia.com/parallelforall/deep-learning-self-driving-cars/) in the section Visualization of internal CNN State. NVIDIA was able to show that their network's inner weights had high activations to road boundary lines by comparing feature maps from an image with a clear path to one without. Try experimenting with a similar test to show that your trained network's weights are looking for interesting features, whether it's looking at differences in feature maps from images with or without a sign, or even what feature maps look like in a trained network vs a completely untrained one on the same sign image.\n",
    "\n",
    "<figure>\n",
    " <img src=\"visualize_cnn.png\" width=\"380\" alt=\"Combined Image\" />\n",
    " <figcaption>\n",
    " <p></p> \n",
    " <p style=\"text-align: center;\"> Your output should look something like this (above)</p> \n",
    " </figcaption>\n",
    "</figure>\n",
    " <p></p> \n"
   ]
  },
  {
   "cell_type": "code",
   "execution_count": 67,
   "metadata": {
    "collapsed": true
   },
   "outputs": [],
   "source": [
    "# ### Visualize your network's feature maps here.\n",
    "# ### Feel free to use as many code cells as needed.\n",
    "\n",
    "# # image_input: the test image being fed into the network to produce the feature maps\n",
    "# # tf_activation: should be a tf variable name used during your training procedure that represents the calculated state of a specific weight layer\n",
    "# # activation_min/max: can be used to view the activation contrast in more detail, by default matplot sets min and max to the actual min and max values of the output\n",
    "# # plt_num: used to plot out multiple different weight feature map sets on the same block, just extend the plt number for each new feature map entry\n",
    "\n",
    "# def outputFeatureMap(image_input, tf_activation, activation_min=-1, activation_max=-1 ,plt_num=1):\n",
    "#     # Here make sure to preprocess your image_input in a way your network expects\n",
    "#     # with size, normalization, ect if needed\n",
    "#     # image_input =\n",
    "#     # Note: x should be the same name as your network's tensorflow data placeholder variable\n",
    "#     # If you get an error tf_activation is not defined it may be having trouble accessing the variable from inside a function\n",
    "#     activation = tf_activation.eval(session=sess,feed_dict={x : image_input})\n",
    "#     featuremaps = activation.shape[3]\n",
    "#     plt.figure(plt_num, figsize=(15,15))\n",
    "#     for featuremap in range(featuremaps):\n",
    "#         plt.subplot(6,8, featuremap+1) # sets the number of feature maps to show on each row and column\n",
    "#         plt.title('FeatureMap ' + str(featuremap)) # displays the feature map number\n",
    "#         if activation_min != -1 & activation_max != -1:\n",
    "#             plt.imshow(activation[0,:,:, featuremap], interpolation=\"nearest\", vmin=activation_min, vmax=activation_max, cmap=\"gray\")\n",
    "#         elif activation_max != -1:\n",
    "#             plt.imshow(activation[0,:,:, featuremap], interpolation=\"nearest\", vmax=activation_max, cmap=\"gray\")\n",
    "#         elif activation_min !=-1:\n",
    "#             plt.imshow(activation[0,:,:, featuremap], interpolation=\"nearest\", vmin=activation_min, cmap=\"gray\")\n",
    "#         else:\n",
    "#             plt.imshow(activation[0,:,:, featuremap], interpolation=\"nearest\", cmap=\"gray\")"
   ]
  },
  {
   "cell_type": "code",
   "execution_count": null,
   "metadata": {
    "collapsed": true
   },
   "outputs": [],
   "source": []
  }
 ],
 "metadata": {
  "anaconda-cloud": {},
  "kernelspec": {
   "display_name": "Python 3",
   "language": "python",
   "name": "python3"
  },
  "language_info": {
   "codemirror_mode": {
    "name": "ipython",
    "version": 3
   },
   "file_extension": ".py",
   "mimetype": "text/x-python",
   "name": "python",
   "nbconvert_exporter": "python",
   "pygments_lexer": "ipython3",
   "version": "3.6.1"
  }
 },
 "nbformat": 4,
 "nbformat_minor": 1
}
